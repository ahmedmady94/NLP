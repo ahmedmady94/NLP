{
 "cells": [
  {
   "cell_type": "markdown",
   "metadata": {},
   "source": [
    "<center><h1>Incorporate n-grams with word embeddings</h1></center>\n",
    "\n",
    "How can we incorporate N-Grams features with our word embedding, we use **convolution**.\n",
    "\n",
    "<center><img src=\"https://cezannec.github.io/assets/cnn_text/conv_maxpooling_steps.gif\"></center>\n",
    "\n",
    "The window size indicate the N in N-gram, like for example if the kernel size is `3x300`, this means 3-grams model and so on "
   ]
  },
  {
   "cell_type": "code",
   "execution_count": 1,
   "metadata": {
    "ExecuteTime": {
     "end_time": "2021-11-10T22:32:50.850411Z",
     "start_time": "2021-11-10T22:32:35.126011Z"
    }
   },
   "outputs": [
    {
     "name": "stdout",
     "output_type": "stream",
     "text": [
      "INFO:tensorflow:Enabling eager execution\n",
      "INFO:tensorflow:Enabling v2 tensorshape\n",
      "INFO:tensorflow:Enabling resource variables\n",
      "INFO:tensorflow:Enabling tensor equality\n",
      "INFO:tensorflow:Enabling control flow v2\n"
     ]
    }
   ],
   "source": [
    "import spacy\n",
    "import pandas as pd\n",
    "import numpy as np\n",
    "from tqdm.auto import tqdm\n",
    "\n",
    "nlp = spacy.load(\"en_core_web_md\")\n",
    "dataset = pd.read_csv(\"chatbot-data.tsv\", sep=\"\\t\")"
   ]
  },
  {
   "cell_type": "code",
   "execution_count": 2,
   "metadata": {
    "ExecuteTime": {
     "end_time": "2021-11-10T22:32:50.867424Z",
     "start_time": "2021-11-10T22:32:50.851839Z"
    }
   },
   "outputs": [
    {
     "data": {
      "text/html": [
       "<div>\n",
       "<style scoped>\n",
       "    .dataframe tbody tr th:only-of-type {\n",
       "        vertical-align: middle;\n",
       "    }\n",
       "\n",
       "    .dataframe tbody tr th {\n",
       "        vertical-align: top;\n",
       "    }\n",
       "\n",
       "    .dataframe thead th {\n",
       "        text-align: right;\n",
       "    }\n",
       "</style>\n",
       "<table border=\"1\" class=\"dataframe\">\n",
       "  <thead>\n",
       "    <tr style=\"text-align: right;\">\n",
       "      <th></th>\n",
       "      <th>Unnamed: 0</th>\n",
       "      <th>text</th>\n",
       "      <th>intent</th>\n",
       "    </tr>\n",
       "  </thead>\n",
       "  <tbody>\n",
       "    <tr>\n",
       "      <th>0</th>\n",
       "      <td>0</td>\n",
       "      <td>hello there</td>\n",
       "      <td>greetings</td>\n",
       "    </tr>\n",
       "    <tr>\n",
       "      <th>1</th>\n",
       "      <td>1</td>\n",
       "      <td>good morning</td>\n",
       "      <td>greetings</td>\n",
       "    </tr>\n",
       "    <tr>\n",
       "      <th>2</th>\n",
       "      <td>2</td>\n",
       "      <td>welcome</td>\n",
       "      <td>greetings</td>\n",
       "    </tr>\n",
       "    <tr>\n",
       "      <th>3</th>\n",
       "      <td>3</td>\n",
       "      <td>hi!, how are you</td>\n",
       "      <td>greetings</td>\n",
       "    </tr>\n",
       "    <tr>\n",
       "      <th>4</th>\n",
       "      <td>4</td>\n",
       "      <td>Hi there !!</td>\n",
       "      <td>greetings</td>\n",
       "    </tr>\n",
       "  </tbody>\n",
       "</table>\n",
       "</div>"
      ],
      "text/plain": [
       "   Unnamed: 0              text     intent\n",
       "0           0       hello there  greetings\n",
       "1           1      good morning  greetings\n",
       "2           2           welcome  greetings\n",
       "3           3  hi!, how are you  greetings\n",
       "4           4       Hi there !!  greetings"
      ]
     },
     "execution_count": 2,
     "metadata": {},
     "output_type": "execute_result"
    }
   ],
   "source": [
    "dataset.head()"
   ]
  },
  {
   "cell_type": "code",
   "execution_count": 3,
   "metadata": {
    "ExecuteTime": {
     "end_time": "2021-11-10T22:32:50.872943Z",
     "start_time": "2021-11-10T22:32:50.869790Z"
    }
   },
   "outputs": [],
   "source": [
    "def get_longest_text(texts):\n",
    "    longest_input = 0\n",
    "    for text in texts:\n",
    "        text_len= len(text.split())\n",
    "        longest_input = max(longest_input, text_len)\n",
    "    return longest_input"
   ]
  },
  {
   "cell_type": "code",
   "execution_count": 4,
   "metadata": {
    "ExecuteTime": {
     "end_time": "2021-11-10T22:32:50.880491Z",
     "start_time": "2021-11-10T22:32:50.874696Z"
    },
    "scrolled": false
   },
   "outputs": [
    {
     "data": {
      "text/plain": [
       "11"
      ]
     },
     "execution_count": 4,
     "metadata": {},
     "output_type": "execute_result"
    }
   ],
   "source": [
    "longest_input = get_longest_text(dataset['text'])\n",
    "longest_input"
   ]
  },
  {
   "cell_type": "code",
   "execution_count": 5,
   "metadata": {
    "ExecuteTime": {
     "end_time": "2021-11-10T22:32:51.439786Z",
     "start_time": "2021-11-10T22:32:50.882150Z"
    }
   },
   "outputs": [
    {
     "data": {
      "application/vnd.jupyter.widget-view+json": {
       "model_id": "ad1feb9f3d2f45b8be81b573a87cb3c2",
       "version_major": 2,
       "version_minor": 0
      },
      "text/plain": [
       "  0%|          | 0/35 [00:00<?, ?it/s]"
      ]
     },
     "metadata": {},
     "output_type": "display_data"
    }
   ],
   "source": [
    "data_emb = np.zeros((len(dataset), longest_input, 300))\n",
    "for i, text in enumerate(tqdm(nlp.pipe(dataset['text']), total=len(dataset))):\n",
    "    for j, token in enumerate(text):\n",
    "        data_emb[i, j] = token.vector"
   ]
  },
  {
   "cell_type": "code",
   "execution_count": 6,
   "metadata": {
    "ExecuteTime": {
     "end_time": "2021-11-10T22:32:53.249551Z",
     "start_time": "2021-11-10T22:32:51.440941Z"
    }
   },
   "outputs": [],
   "source": [
    "# prepare y\n",
    "from sklearn.preprocessing import LabelEncoder\n",
    "from tensorflow.keras.utils import to_categorical\n",
    "\n",
    "encoder = LabelEncoder()\n",
    "y_encoded = encoder.fit_transform(dataset['intent'])\n",
    "y_encoded = to_categorical(y_encoded)"
   ]
  },
  {
   "cell_type": "code",
   "execution_count": 7,
   "metadata": {
    "ExecuteTime": {
     "end_time": "2021-11-10T22:32:53.255277Z",
     "start_time": "2021-11-10T22:32:53.250833Z"
    },
    "scrolled": true
   },
   "outputs": [
    {
     "data": {
      "text/plain": [
       "array([[0., 0., 0., 1., 0., 0., 0.],\n",
       "       [0., 0., 0., 1., 0., 0., 0.],\n",
       "       [0., 0., 0., 1., 0., 0., 0.],\n",
       "       [0., 0., 0., 1., 0., 0., 0.],\n",
       "       [0., 0., 0., 1., 0., 0., 0.],\n",
       "       [0., 0., 0., 0., 0., 0., 1.],\n",
       "       [0., 0., 0., 0., 0., 0., 1.],\n",
       "       [0., 0., 0., 0., 0., 0., 1.],\n",
       "       [0., 0., 0., 0., 0., 0., 1.],\n",
       "       [0., 0., 0., 0., 0., 0., 1.]], dtype=float32)"
      ]
     },
     "execution_count": 7,
     "metadata": {},
     "output_type": "execute_result"
    }
   ],
   "source": [
    "y_encoded[:10]"
   ]
  },
  {
   "cell_type": "code",
   "execution_count": 30,
   "metadata": {
    "ExecuteTime": {
     "end_time": "2021-11-10T22:32:53.990148Z",
     "start_time": "2021-11-10T22:32:53.257485Z"
    }
   },
   "outputs": [],
   "source": [
    "import tensorflow as tf\n",
    "\n",
    "# define the network\n",
    "inputs = tf.keras.layers.Input((longest_input, 300))\n",
    "reshaped = tf.keras.layers.Reshape((longest_input, 300, 1))(inputs)\n",
    "\n",
    "\n",
    "filters = [2, 3, 4]\n",
    "\n",
    "# define the conv net\n",
    "conv_1 = tf.keras.layers.Conv2D(100, (filters[0], 300), activation='relu')(reshaped)\n",
    "conv_2 = tf.keras.layers.Conv2D(100, (filters[1], 300), activation='relu')(reshaped)\n",
    "conv_3 = tf.keras.layers.Conv2D(100, (filters[2], 300), activation='relu')(reshaped)\n",
    "\n",
    "# define max-pooling\n",
    "pool_1 = tf.keras.layers.MaxPooling2D((longest_input - filters[0] + 1, 1), strides=(1,1))(conv_1)\n",
    "pool_2 = tf.keras.layers.MaxPooling2D((longest_input - filters[1] + 1, 1), strides=(1,1))(conv_2)\n",
    "pool_3 = tf.keras.layers.MaxPooling2D((longest_input - filters[2] + 1, 1), strides=(1,1))(conv_3)\n",
    "\n",
    "# concatenate the convs\n",
    "merged_tensor = tf.keras.layers.concatenate([pool_1, pool_2, pool_3], axis=1)\n",
    "\n",
    "# now flatten them and add a dense layer\n",
    "flatten = tf.keras.layers.Flatten()(merged_tensor)\n",
    "\n",
    "# add a dense layer\n",
    "clf = tf.keras.layers.Dense(100, activation='relu')(flatten)\n",
    "\n",
    "# add final output\n",
    "clf = tf.keras.layers.Dense(len(encoder.classes_), activation='softmax')(clf)"
   ]
  },
  {
   "cell_type": "code",
   "execution_count": 31,
   "metadata": {
    "ExecuteTime": {
     "end_time": "2021-11-10T22:32:54.012345Z",
     "start_time": "2021-11-10T22:32:53.992046Z"
    }
   },
   "outputs": [
    {
     "name": "stdout",
     "output_type": "stream",
     "text": [
      "Model: \"model_2\"\n",
      "__________________________________________________________________________________________________\n",
      "Layer (type)                    Output Shape         Param #     Connected to                     \n",
      "==================================================================================================\n",
      "input_3 (InputLayer)            [(None, 11, 300)]    0                                            \n",
      "__________________________________________________________________________________________________\n",
      "reshape_2 (Reshape)             (None, 11, 300, 1)   0           input_3[0][0]                    \n",
      "__________________________________________________________________________________________________\n",
      "conv2d_6 (Conv2D)               (None, 10, 1, 100)   60100       reshape_2[0][0]                  \n",
      "__________________________________________________________________________________________________\n",
      "conv2d_7 (Conv2D)               (None, 9, 1, 100)    90100       reshape_2[0][0]                  \n",
      "__________________________________________________________________________________________________\n",
      "conv2d_8 (Conv2D)               (None, 8, 1, 100)    120100      reshape_2[0][0]                  \n",
      "__________________________________________________________________________________________________\n",
      "max_pooling2d_6 (MaxPooling2D)  (None, 1, 1, 100)    0           conv2d_6[0][0]                   \n",
      "__________________________________________________________________________________________________\n",
      "max_pooling2d_7 (MaxPooling2D)  (None, 1, 1, 100)    0           conv2d_7[0][0]                   \n",
      "__________________________________________________________________________________________________\n",
      "max_pooling2d_8 (MaxPooling2D)  (None, 1, 1, 100)    0           conv2d_8[0][0]                   \n",
      "__________________________________________________________________________________________________\n",
      "concatenate_2 (Concatenate)     (None, 3, 1, 100)    0           max_pooling2d_6[0][0]            \n",
      "                                                                 max_pooling2d_7[0][0]            \n",
      "                                                                 max_pooling2d_8[0][0]            \n",
      "__________________________________________________________________________________________________\n",
      "flatten_2 (Flatten)             (None, 300)          0           concatenate_2[0][0]              \n",
      "__________________________________________________________________________________________________\n",
      "dense_4 (Dense)                 (None, 100)          30100       flatten_2[0][0]                  \n",
      "__________________________________________________________________________________________________\n",
      "dense_5 (Dense)                 (None, 7)            707         dense_4[0][0]                    \n",
      "==================================================================================================\n",
      "Total params: 301,107\n",
      "Trainable params: 301,107\n",
      "Non-trainable params: 0\n",
      "__________________________________________________________________________________________________\n"
     ]
    }
   ],
   "source": [
    "# compile the model\n",
    "model = tf.keras.models.Model(inputs, clf)\n",
    "model.compile(loss='categorical_crossentropy', optimizer='adam', metrics=['acc'])\n",
    "model.summary()"
   ]
  },
  {
   "cell_type": "code",
   "execution_count": 32,
   "metadata": {
    "ExecuteTime": {
     "end_time": "2021-11-10T22:32:56.669581Z",
     "start_time": "2021-11-10T22:32:54.013890Z"
    }
   },
   "outputs": [],
   "source": [
    "# !pip install pydot graphviz"
   ]
  },
  {
   "cell_type": "code",
   "execution_count": 33,
   "metadata": {
    "ExecuteTime": {
     "end_time": "2021-11-10T22:32:56.852763Z",
     "start_time": "2021-11-10T22:32:56.674820Z"
    }
   },
   "outputs": [
    {
     "data": {
      "image/png": "[encoded data removed]",
      "text/plain": [
       "<IPython.core.display.Image object>"
      ]
     },
     "execution_count": 33,
     "metadata": {},
     "output_type": "execute_result"
    }
   ],
   "source": [
    "tf.keras.utils.plot_model(\n",
    "    model, show_shapes=False, show_layer_names=True,\n",
    "    rankdir='TB', expand_nested=False, dpi=96\n",
    ")"
   ]
  },
  {
   "cell_type": "code",
   "execution_count": 34,
   "metadata": {
    "ExecuteTime": {
     "end_time": "2021-11-10T22:32:56.881970Z",
     "start_time": "2021-11-10T22:32:56.854572Z"
    }
   },
   "outputs": [],
   "source": [
    "# let's split the data and train our model\n",
    "from sklearn.model_selection import train_test_split\n",
    "\n",
    "x_train, x_test, y_train, y_test = train_test_split(data_emb, y_encoded, test_size=.2)"
   ]
  },
  {
   "cell_type": "code",
   "execution_count": 39,
   "metadata": {
    "ExecuteTime": {
     "end_time": "2021-11-10T22:32:58.903762Z",
     "start_time": "2021-11-10T22:32:56.883300Z"
    },
    "scrolled": true
   },
   "outputs": [
    {
     "name": "stdout",
     "output_type": "stream",
     "text": [
      "1/1 [==============================] - 0s 6ms/step - loss: 1.4245 - acc: 0.9643\n"
     ]
    },
    {
     "data": {
      "text/plain": [
       "<tensorflow.python.keras.callbacks.History at 0x2141228ad00>"
      ]
     },
     "execution_count": 39,
     "metadata": {},
     "output_type": "execute_result"
    }
   ],
   "source": [
    "# train our model\n",
    "model.fit(x_train, y_train, epochs=1)"
   ]
  },
  {
   "cell_type": "code",
   "execution_count": 40,
   "metadata": {
    "ExecuteTime": {
     "end_time": "2021-11-10T22:32:59.172270Z",
     "start_time": "2021-11-10T22:32:58.905924Z"
    },
    "scrolled": false
   },
   "outputs": [
    {
     "name": "stdout",
     "output_type": "stream",
     "text": [
      "1/1 [==============================] - 0s 11ms/step - loss: 1.6801 - acc: 0.4286\n"
     ]
    },
    {
     "data": {
      "text/plain": [
       "[1.6800525188446045, 0.4285714328289032]"
      ]
     },
     "execution_count": 40,
     "metadata": {},
     "output_type": "execute_result"
    }
   ],
   "source": [
    "model.evaluate(x_test, y_test)"
   ]
  },
  {
   "cell_type": "markdown",
   "metadata": {},
   "source": [
    "Let's make a prediction function"
   ]
  },
  {
   "cell_type": "code",
   "execution_count": 15,
   "metadata": {
    "ExecuteTime": {
     "end_time": "2021-11-10T22:32:59.178891Z",
     "start_time": "2021-11-10T22:32:59.174151Z"
    }
   },
   "outputs": [
    {
     "data": {
      "text/plain": [
       "'reserve_enq'"
      ]
     },
     "execution_count": 15,
     "metadata": {},
     "output_type": "execute_result"
    }
   ],
   "source": [
    "encoder.classes_[4]"
   ]
  },
  {
   "cell_type": "code",
   "execution_count": 16,
   "metadata": {
    "ExecuteTime": {
     "end_time": "2021-11-10T22:32:59.542247Z",
     "start_time": "2021-11-10T22:32:59.184327Z"
    }
   },
   "outputs": [
    {
     "data": {
      "text/plain": [
       "array([[8.6449915e-01, 9.8544478e-02, 1.3815803e-03, 3.0449471e-02,\n",
       "        9.3967922e-04, 2.1344087e-05, 4.1642380e-03]], dtype=float32)"
      ]
     },
     "execution_count": 16,
     "metadata": {},
     "output_type": "execute_result"
    }
   ],
   "source": [
    "text = \"Hello do you have python courses?\"\n",
    "text_v = np.zeros((1, longest_input, 300))\n",
    "for i, token in enumerate(nlp(text)):\n",
    "    if i>=longest_input:\n",
    "        break\n",
    "    text_v[0, i] = token.vector\n",
    "predictions = model.predict(text_v)\n",
    "predictions"
   ]
  },
  {
   "cell_type": "code",
   "execution_count": 17,
   "metadata": {
    "ExecuteTime": {
     "end_time": "2021-11-10T22:32:59.553041Z",
     "start_time": "2021-11-10T22:32:59.545389Z"
    }
   },
   "outputs": [
    {
     "data": {
      "text/plain": [
       "0"
      ]
     },
     "execution_count": 17,
     "metadata": {},
     "output_type": "execute_result"
    }
   ],
   "source": [
    "np.argmax(predictions)"
   ]
  },
  {
   "cell_type": "code",
   "execution_count": 18,
   "metadata": {
    "ExecuteTime": {
     "end_time": "2021-11-10T22:32:59.564761Z",
     "start_time": "2021-11-10T22:32:59.555335Z"
    }
   },
   "outputs": [
    {
     "name": "stdout",
     "output_type": "stream",
     "text": [
      "('availability_enq', 0.864)\n",
      "('cost_enq', 0.099)\n",
      "('duration_enq', 0.001)\n",
      "('greetings', 0.03)\n",
      "('reserve_enq', 0.001)\n",
      "('start_enq', 0.0)\n",
      "('thanks', 0.004)\n"
     ]
    }
   ],
   "source": [
    "for label, prob in zip(encoder.classes_, predictions[0]):\n",
    "    print((label, round(prob, 3)))"
   ]
  },
  {
   "cell_type": "code",
   "execution_count": 19,
   "metadata": {
    "ExecuteTime": {
     "end_time": "2021-11-10T22:32:59.571868Z",
     "start_time": "2021-11-10T22:32:59.567674Z"
    }
   },
   "outputs": [],
   "source": [
    "def predict_n_gram(text):\n",
    "    text_v = np.zeros((1, longest_input, 300))\n",
    "    for i, token in enumerate(nlp(text)):\n",
    "        if i>=longest_input:\n",
    "            break\n",
    "        text_v[0, i] = token.vector\n",
    "    # predict the input \n",
    "    prediction = model.predict(text_v)\n",
    "    label = encoder.classes_[np.argmax(prediction)]\n",
    "    return label"
   ]
  },
  {
   "cell_type": "code",
   "execution_count": 20,
   "metadata": {
    "ExecuteTime": {
     "end_time": "2021-11-10T22:32:59.690574Z",
     "start_time": "2021-11-10T22:32:59.573389Z"
    }
   },
   "outputs": [
    {
     "data": {
      "text/plain": [
       "'cost_enq'"
      ]
     },
     "execution_count": 20,
     "metadata": {},
     "output_type": "execute_result"
    }
   ],
   "source": [
    "predict_n_gram(\"how much for the french course?\")"
   ]
  }
 ],
 "metadata": {
  "kernelspec": {
   "display_name": "Python 3 (ipykernel)",
   "language": "python",
   "name": "python3"
  },
  "language_info": {
   "codemirror_mode": {
    "name": "ipython",
    "version": 3
   },
   "file_extension": ".py",
   "mimetype": "text/x-python",
   "name": "python",
   "nbconvert_exporter": "python",
   "pygments_lexer": "ipython3",
   "version": "3.9.7"
  }
 },
 "nbformat": 4,
 "nbformat_minor": 2
}
