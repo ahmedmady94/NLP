{
 "cells": [
  {
   "cell_type": "markdown",
   "metadata": {
    "slideshow": {
     "slide_type": "slide"
    }
   },
   "source": [
    "# Word Embeddings \n",
    "\n",
    "In this notebook we will go through word embeddings using deep learning, we will not train a new model we will use pre-trained ones as training a new one will cost a lot.\n",
    "\n",
    "We will be using `spacy` in this tutorial to demonstrate word embeddings"
   ]
  },
  {
   "cell_type": "code",
   "execution_count": 1,
   "metadata": {
    "slideshow": {
     "slide_type": "fragment"
    }
   },
   "outputs": [],
   "source": [
    "# Update pip tools and install spacy\n",
    "\n",
    "\n",
    "# pip install -U spacy\n",
    "\n",
    "# Download the English model\n",
    "\n",
    "# python -m spacy download en_core_web_md"
   ]
  },
  {
   "cell_type": "code",
   "execution_count": 2,
   "metadata": {},
   "outputs": [],
   "source": [
    "# pip install -U pip setuptools wheel\n",
    "# pip install -U spacy\n",
    "# python -m spacy download en_core_web_md"
   ]
  },
  {
   "cell_type": "code",
   "execution_count": 3,
   "metadata": {
    "ExecuteTime": {
     "end_time": "2021-11-07T22:19:17.436827Z",
     "start_time": "2021-11-07T22:19:02.594935Z"
    },
    "slideshow": {
     "slide_type": "slide"
    }
   },
   "outputs": [],
   "source": [
    "import spacy\n",
    "import pandas as pd\n",
    "import seaborn as sns\n",
    "from sklearn.metrics.pairwise import cosine_similarity, cosine_distances\n",
    "\n",
    "cm = sns.light_palette(\"blue\", as_cmap=True)\n",
    "nlp = spacy.load('en_core_web_md')"
   ]
  },
  {
   "cell_type": "code",
   "execution_count": 4,
   "metadata": {
    "ExecuteTime": {
     "end_time": "2021-11-07T21:43:21.214084Z",
     "start_time": "2021-11-07T21:43:21.069549Z"
    },
    "slideshow": {
     "slide_type": "fragment"
    }
   },
   "outputs": [],
   "source": [
    "words = ['cat', 'dog', 'car', 'bird', 'eagle','tiger','lion']\n",
    "vectors = [nlp(word).vector for word in words]"
   ]
  },
  {
   "cell_type": "code",
   "execution_count": 5,
   "metadata": {
    "ExecuteTime": {
     "end_time": "2021-11-07T21:43:22.239978Z",
     "start_time": "2021-11-07T21:43:22.220166Z"
    },
    "slideshow": {
     "slide_type": "fragment"
    }
   },
   "outputs": [
    {
     "data": {
      "text/html": [
       "<style type=\"text/css\">\n",
       "#T_13f5c_row0_col0, #T_13f5c_row1_col1, #T_13f5c_row2_col2, #T_13f5c_row3_col3, #T_13f5c_row4_col4, #T_13f5c_row5_col5, #T_13f5c_row6_col6 {\n",
       "  background-color: #0000ff;\n",
       "  color: #f1f1f1;\n",
       "}\n",
       "#T_13f5c_row0_col1 {\n",
       "  background-color: #4343fc;\n",
       "  color: #f1f1f1;\n",
       "}\n",
       "#T_13f5c_row0_col2 {\n",
       "  background-color: #c5c5f5;\n",
       "  color: #000000;\n",
       "}\n",
       "#T_13f5c_row0_col3, #T_13f5c_row3_col6 {\n",
       "  background-color: #9494f7;\n",
       "  color: #f1f1f1;\n",
       "}\n",
       "#T_13f5c_row0_col4 {\n",
       "  background-color: #d3d3f4;\n",
       "  color: #000000;\n",
       "}\n",
       "#T_13f5c_row0_col5 {\n",
       "  background-color: #8484f8;\n",
       "  color: #f1f1f1;\n",
       "}\n",
       "#T_13f5c_row0_col6 {\n",
       "  background-color: #8a8af8;\n",
       "  color: #f1f1f1;\n",
       "}\n",
       "#T_13f5c_row1_col0 {\n",
       "  background-color: #4646fb;\n",
       "  color: #f1f1f1;\n",
       "}\n",
       "#T_13f5c_row1_col2 {\n",
       "  background-color: #babaf6;\n",
       "  color: #000000;\n",
       "}\n",
       "#T_13f5c_row1_col3 {\n",
       "  background-color: #a1a1f7;\n",
       "  color: #f1f1f1;\n",
       "}\n",
       "#T_13f5c_row1_col4 {\n",
       "  background-color: #dedef4;\n",
       "  color: #000000;\n",
       "}\n",
       "#T_13f5c_row1_col5, #T_13f5c_row5_col0 {\n",
       "  background-color: #a2a2f7;\n",
       "  color: #f1f1f1;\n",
       "}\n",
       "#T_13f5c_row1_col6 {\n",
       "  background-color: #9a9af7;\n",
       "  color: #f1f1f1;\n",
       "}\n",
       "#T_13f5c_row2_col0, #T_13f5c_row2_col3, #T_13f5c_row2_col4, #T_13f5c_row2_col5, #T_13f5c_row2_col6, #T_13f5c_row4_col1, #T_13f5c_row5_col2 {\n",
       "  background-color: #f0f0f3;\n",
       "  color: #000000;\n",
       "}\n",
       "#T_13f5c_row2_col1 {\n",
       "  background-color: #dadaf4;\n",
       "  color: #000000;\n",
       "}\n",
       "#T_13f5c_row3_col0 {\n",
       "  background-color: #a9a9f6;\n",
       "  color: #000000;\n",
       "}\n",
       "#T_13f5c_row3_col1 {\n",
       "  background-color: #b0b0f6;\n",
       "  color: #000000;\n",
       "}\n",
       "#T_13f5c_row3_col2 {\n",
       "  background-color: #e0e0f4;\n",
       "  color: #000000;\n",
       "}\n",
       "#T_13f5c_row3_col4, #T_13f5c_row4_col3 {\n",
       "  background-color: #8585f8;\n",
       "  color: #f1f1f1;\n",
       "}\n",
       "#T_13f5c_row3_col5 {\n",
       "  background-color: #9292f8;\n",
       "  color: #f1f1f1;\n",
       "}\n",
       "#T_13f5c_row4_col0, #T_13f5c_row6_col2 {\n",
       "  background-color: #efeff3;\n",
       "  color: #000000;\n",
       "}\n",
       "#T_13f5c_row4_col2 {\n",
       "  background-color: #dedff4;\n",
       "  color: #000000;\n",
       "}\n",
       "#T_13f5c_row4_col5 {\n",
       "  background-color: #8383f8;\n",
       "  color: #f1f1f1;\n",
       "}\n",
       "#T_13f5c_row4_col6 {\n",
       "  background-color: #7777f9;\n",
       "  color: #f1f1f1;\n",
       "}\n",
       "#T_13f5c_row5_col1 {\n",
       "  background-color: #bebef5;\n",
       "  color: #000000;\n",
       "}\n",
       "#T_13f5c_row5_col3, #T_13f5c_row6_col3 {\n",
       "  background-color: #9d9df7;\n",
       "  color: #f1f1f1;\n",
       "}\n",
       "#T_13f5c_row5_col4 {\n",
       "  background-color: #8d8df8;\n",
       "  color: #f1f1f1;\n",
       "}\n",
       "#T_13f5c_row5_col6, #T_13f5c_row6_col5 {\n",
       "  background-color: #4c4cfb;\n",
       "  color: #f1f1f1;\n",
       "}\n",
       "#T_13f5c_row6_col0 {\n",
       "  background-color: #a8a8f6;\n",
       "  color: #000000;\n",
       "}\n",
       "#T_13f5c_row6_col1 {\n",
       "  background-color: #b2b2f6;\n",
       "  color: #000000;\n",
       "}\n",
       "#T_13f5c_row6_col4 {\n",
       "  background-color: #7f7ff9;\n",
       "  color: #f1f1f1;\n",
       "}\n",
       "</style>\n",
       "<table id=\"T_13f5c_\">\n",
       "  <thead>\n",
       "    <tr>\n",
       "      <th class=\"blank level0\" >&nbsp;</th>\n",
       "      <th class=\"col_heading level0 col0\" >cat</th>\n",
       "      <th class=\"col_heading level0 col1\" >dog</th>\n",
       "      <th class=\"col_heading level0 col2\" >car</th>\n",
       "      <th class=\"col_heading level0 col3\" >bird</th>\n",
       "      <th class=\"col_heading level0 col4\" >eagle</th>\n",
       "      <th class=\"col_heading level0 col5\" >tiger</th>\n",
       "      <th class=\"col_heading level0 col6\" >lion</th>\n",
       "    </tr>\n",
       "  </thead>\n",
       "  <tbody>\n",
       "    <tr>\n",
       "      <th id=\"T_13f5c_level0_row0\" class=\"row_heading level0 row0\" >cat</th>\n",
       "      <td id=\"T_13f5c_row0_col0\" class=\"data row0 col0\" >1.000000</td>\n",
       "      <td id=\"T_13f5c_row0_col1\" class=\"data row0 col1\" >0.801686</td>\n",
       "      <td id=\"T_13f5c_row0_col2\" class=\"data row0 col2\" >0.319075</td>\n",
       "      <td id=\"T_13f5c_row0_col3\" class=\"data row0 col3\" >0.523687</td>\n",
       "      <td id=\"T_13f5c_row0_col4\" class=\"data row0 col4\" >0.324779</td>\n",
       "      <td id=\"T_13f5c_row0_col5\" class=\"data row0 col5\" >0.541339</td>\n",
       "      <td id=\"T_13f5c_row0_col6\" class=\"data row0 col6\" >0.526544</td>\n",
       "    </tr>\n",
       "    <tr>\n",
       "      <th id=\"T_13f5c_level0_row1\" class=\"row_heading level0 row1\" >dog</th>\n",
       "      <td id=\"T_13f5c_row1_col0\" class=\"data row1 col0\" >0.801686</td>\n",
       "      <td id=\"T_13f5c_row1_col1\" class=\"data row1 col1\" >1.000000</td>\n",
       "      <td id=\"T_13f5c_row1_col2\" class=\"data row1 col2\" >0.356292</td>\n",
       "      <td id=\"T_13f5c_row1_col3\" class=\"data row1 col3\" >0.478755</td>\n",
       "      <td id=\"T_13f5c_row1_col4\" class=\"data row1 col4\" >0.289382</td>\n",
       "      <td id=\"T_13f5c_row1_col5\" class=\"data row1 col5\" >0.436547</td>\n",
       "      <td id=\"T_13f5c_row1_col6\" class=\"data row1 col6\" >0.474245</td>\n",
       "    </tr>\n",
       "    <tr>\n",
       "      <th id=\"T_13f5c_level0_row2\" class=\"row_heading level0 row2\" >car</th>\n",
       "      <td id=\"T_13f5c_row2_col0\" class=\"data row2 col0\" >0.319075</td>\n",
       "      <td id=\"T_13f5c_row2_col1\" class=\"data row2 col1\" >0.356292</td>\n",
       "      <td id=\"T_13f5c_row2_col2\" class=\"data row2 col2\" >1.000000</td>\n",
       "      <td id=\"T_13f5c_row2_col3\" class=\"data row2 col3\" >0.223812</td>\n",
       "      <td id=\"T_13f5c_row2_col4\" class=\"data row2 col4\" >0.228690</td>\n",
       "      <td id=\"T_13f5c_row2_col5\" class=\"data row2 col5\" >0.166127</td>\n",
       "      <td id=\"T_13f5c_row2_col6\" class=\"data row2 col6\" >0.175249</td>\n",
       "    </tr>\n",
       "    <tr>\n",
       "      <th id=\"T_13f5c_level0_row3\" class=\"row_heading level0 row3\" >bird</th>\n",
       "      <td id=\"T_13f5c_row3_col0\" class=\"data row3 col0\" >0.523687</td>\n",
       "      <td id=\"T_13f5c_row3_col1\" class=\"data row3 col1\" >0.478755</td>\n",
       "      <td id=\"T_13f5c_row3_col2\" class=\"data row3 col2\" >0.223812</td>\n",
       "      <td id=\"T_13f5c_row3_col3\" class=\"data row3 col3\" >1.000000</td>\n",
       "      <td id=\"T_13f5c_row3_col4\" class=\"data row3 col4\" >0.572219</td>\n",
       "      <td id=\"T_13f5c_row3_col5\" class=\"data row3 col5\" >0.493906</td>\n",
       "      <td id=\"T_13f5c_row3_col6\" class=\"data row3 col6\" >0.492987</td>\n",
       "    </tr>\n",
       "    <tr>\n",
       "      <th id=\"T_13f5c_level0_row4\" class=\"row_heading level0 row4\" >eagle</th>\n",
       "      <td id=\"T_13f5c_row4_col0\" class=\"data row4 col0\" >0.324779</td>\n",
       "      <td id=\"T_13f5c_row4_col1\" class=\"data row4 col1\" >0.289382</td>\n",
       "      <td id=\"T_13f5c_row4_col2\" class=\"data row4 col2\" >0.228690</td>\n",
       "      <td id=\"T_13f5c_row4_col3\" class=\"data row4 col3\" >0.572219</td>\n",
       "      <td id=\"T_13f5c_row4_col4\" class=\"data row4 col4\" >1.000000</td>\n",
       "      <td id=\"T_13f5c_row4_col5\" class=\"data row4 col5\" >0.545475</td>\n",
       "      <td id=\"T_13f5c_row4_col6\" class=\"data row4 col6\" >0.591164</td>\n",
       "    </tr>\n",
       "    <tr>\n",
       "      <th id=\"T_13f5c_level0_row5\" class=\"row_heading level0 row5\" >tiger</th>\n",
       "      <td id=\"T_13f5c_row5_col0\" class=\"data row5 col0\" >0.541339</td>\n",
       "      <td id=\"T_13f5c_row5_col1\" class=\"data row5 col1\" >0.436547</td>\n",
       "      <td id=\"T_13f5c_row5_col2\" class=\"data row5 col2\" >0.166127</td>\n",
       "      <td id=\"T_13f5c_row5_col3\" class=\"data row5 col3\" >0.493906</td>\n",
       "      <td id=\"T_13f5c_row5_col4\" class=\"data row5 col4\" >0.545475</td>\n",
       "      <td id=\"T_13f5c_row5_col5\" class=\"data row5 col5\" >1.000000</td>\n",
       "      <td id=\"T_13f5c_row5_col6\" class=\"data row5 col6\" >0.735983</td>\n",
       "    </tr>\n",
       "    <tr>\n",
       "      <th id=\"T_13f5c_level0_row6\" class=\"row_heading level0 row6\" >lion</th>\n",
       "      <td id=\"T_13f5c_row6_col0\" class=\"data row6 col0\" >0.526544</td>\n",
       "      <td id=\"T_13f5c_row6_col1\" class=\"data row6 col1\" >0.474245</td>\n",
       "      <td id=\"T_13f5c_row6_col2\" class=\"data row6 col2\" >0.175249</td>\n",
       "      <td id=\"T_13f5c_row6_col3\" class=\"data row6 col3\" >0.492987</td>\n",
       "      <td id=\"T_13f5c_row6_col4\" class=\"data row6 col4\" >0.591164</td>\n",
       "      <td id=\"T_13f5c_row6_col5\" class=\"data row6 col5\" >0.735983</td>\n",
       "      <td id=\"T_13f5c_row6_col6\" class=\"data row6 col6\" >1.000000</td>\n",
       "    </tr>\n",
       "  </tbody>\n",
       "</table>\n"
      ],
      "text/plain": [
       "<pandas.io.formats.style.Styler at 0x263b8420070>"
      ]
     },
     "execution_count": 5,
     "metadata": {},
     "output_type": "execute_result"
    }
   ],
   "source": [
    "similarities = cosine_similarity(vectors, vectors)\n",
    "pd.DataFrame(similarities, columns=words, index=words).style.background_gradient(cmap=cm)"
   ]
  },
  {
   "cell_type": "markdown",
   "metadata": {
    "slideshow": {
     "slide_type": "slide"
    }
   },
   "source": [
    "# Vectors !\n",
    "\n",
    "The vectors generated by `spacy` model is a 300 dimensional vector which is the output of a pre-trained GloVe model."
   ]
  },
  {
   "cell_type": "code",
   "execution_count": 8,
   "metadata": {
    "ExecuteTime": {
     "end_time": "2021-11-07T21:50:15.459013Z",
     "start_time": "2021-11-07T21:50:15.403882Z"
    }
   },
   "outputs": [
    {
     "name": "stdout",
     "output_type": "stream",
     "text": [
      "(300,)\n",
      "[-0.60877  0.30253 -0.12351 -0.23647  0.2665 ]\n"
     ]
    }
   ],
   "source": [
    "vector = nlp(\"Bank\").vector\n",
    "print(vector.shape)\n",
    "print(vector[:5])"
   ]
  },
  {
   "cell_type": "markdown",
   "metadata": {
    "slideshow": {
     "slide_type": "slide"
    }
   },
   "source": [
    "## Embeddings as feature\n",
    "\n",
    "We can use word embedding as features of the text and build a classifier using them"
   ]
  },
  {
   "cell_type": "code",
   "execution_count": 9,
   "metadata": {
    "ExecuteTime": {
     "end_time": "2021-11-07T22:05:53.193521Z",
     "start_time": "2021-11-07T22:05:51.227981Z"
    },
    "slideshow": {
     "slide_type": "fragment"
    }
   },
   "outputs": [],
   "source": [
    "import numpy as np\n",
    "from tqdm.auto import tqdm\n",
    "from sklearn.datasets import fetch_20newsgroups\n",
    "from sklearn.linear_model import LogisticRegression\n",
    "from sklearn.svm import LinearSVC\n",
    "from sklearn.metrics import classification_report\n",
    "\n",
    "categories = ['alt.atheism', 'soc.religion.christian',\n",
    "              'comp.graphics', 'sci.med']\n",
    "x_train, y_train = fetch_20newsgroups(categories=categories, \n",
    "                          remove=('headers', 'footers', 'quotes'), return_X_y=True)\n",
    "x_test, y_test = fetch_20newsgroups(categories=categories, \n",
    "                          remove=('headers', 'footers', 'quotes'), return_X_y=True, subset='test')"
   ]
  },
  {
   "cell_type": "code",
   "execution_count": 11,
   "metadata": {
    "ExecuteTime": {
     "end_time": "2021-11-07T22:08:34.484149Z",
     "start_time": "2021-11-07T22:05:54.754281Z"
    },
    "slideshow": {
     "slide_type": "fragment"
    }
   },
   "outputs": [
    {
     "data": {
      "application/vnd.jupyter.widget-view+json": {
       "model_id": "3d20d27251104406a7c413b6ea398580",
       "version_major": 2,
       "version_minor": 0
      },
      "text/plain": [
       "  0%|          | 0/2257 [00:00<?, ?it/s]"
      ]
     },
     "metadata": {},
     "output_type": "display_data"
    },
    {
     "data": {
      "application/vnd.jupyter.widget-view+json": {
       "model_id": "378eba0d742d4319a5077575247b1a54",
       "version_major": 2,
       "version_minor": 0
      },
      "text/plain": [
       "  0%|          | 0/1502 [00:00<?, ?it/s]"
      ]
     },
     "metadata": {},
     "output_type": "display_data"
    }
   ],
   "source": [
    "x_train_v = np.zeros((len(x_train), 300))\n",
    "x_test_v = np.zeros((len(x_test), 300))\n",
    "\n",
    "for i, doc in tqdm(enumerate(nlp.pipe(x_train)), total=len(x_train)):\n",
    "    x_train_v[i, :] = doc.vector\n",
    "\n",
    "for i, doc in tqdm(enumerate(nlp.pipe(x_test)), total=len(x_test)):\n",
    "    x_test_v[i, :] = doc.vector"
   ]
  },
  {
   "cell_type": "markdown",
   "metadata": {
    "slideshow": {
     "slide_type": "slide"
    }
   },
   "source": [
    "# Train a classifier"
   ]
  },
  {
   "cell_type": "code",
   "execution_count": 42,
   "metadata": {
    "ExecuteTime": {
     "end_time": "2021-11-07T22:12:21.083444Z",
     "start_time": "2021-11-07T22:12:19.718135Z"
    },
    "slideshow": {
     "slide_type": "fragment"
    }
   },
   "outputs": [
    {
     "name": "stdout",
     "output_type": "stream",
     "text": [
      "                        precision    recall  f1-score   support\n",
      "\n",
      "           alt.atheism       0.72      0.65      0.68       319\n",
      "soc.religion.christian       0.91      0.90      0.91       389\n",
      "         comp.graphics       0.84      0.88      0.86       396\n",
      "               sci.med       0.80      0.83      0.82       398\n",
      "\n",
      "              accuracy                           0.83      1502\n",
      "             macro avg       0.82      0.82      0.82      1502\n",
      "          weighted avg       0.82      0.83      0.82      1502\n",
      "\n"
     ]
    }
   ],
   "source": [
    "clf = LinearSVC()\n",
    "clf.fit(x_train_v, y_train)\n",
    "print(classification_report(y_test, clf.predict(x_test_v), target_names=categories))"
   ]
  },
  {
   "cell_type": "markdown",
   "metadata": {
    "slideshow": {
     "slide_type": "slide"
    }
   },
   "source": [
    "# Get top similar"
   ]
  },
  {
   "cell_type": "code",
   "execution_count": 43,
   "metadata": {
    "ExecuteTime": {
     "end_time": "2021-11-07T22:25:25.193868Z",
     "start_time": "2021-11-07T22:25:25.134700Z"
    },
    "slideshow": {
     "slide_type": "fragment"
    }
   },
   "outputs": [
    {
     "name": "stdout",
     "output_type": "stream",
     "text": [
      "ID: 1252\n",
      "True label: \u001b[32msoc.religion.christian\u001b[0m\n",
      "0 nearest label is \u001b[32msoc.religion.christian\u001b[0m similarity score: \u001b[33m0.978\u001b[0m\n",
      "1 nearest label is \u001b[32msoc.religion.christian\u001b[0m similarity score: \u001b[33m0.975\u001b[0m\n",
      "2 nearest label is \u001b[32msoc.religion.christian\u001b[0m similarity score: \u001b[33m0.974\u001b[0m\n",
      "ID: 1466\n",
      "True label: \u001b[32mcomp.graphics\u001b[0m\n",
      "0 nearest label is \u001b[31malt.atheism\u001b[0m similarity score: \u001b[33m0.992\u001b[0m\n",
      "1 nearest label is \u001b[31malt.atheism\u001b[0m similarity score: \u001b[33m0.991\u001b[0m\n",
      "2 nearest label is \u001b[31msci.med\u001b[0m similarity score: \u001b[33m0.99\u001b[0m\n",
      "ID: 867\n",
      "True label: \u001b[32msci.med\u001b[0m\n",
      "0 nearest label is \u001b[32msci.med\u001b[0m similarity score: \u001b[33m0.984\u001b[0m\n",
      "1 nearest label is \u001b[31malt.atheism\u001b[0m similarity score: \u001b[33m0.983\u001b[0m\n",
      "2 nearest label is \u001b[32msci.med\u001b[0m similarity score: \u001b[33m0.983\u001b[0m\n",
      "ID: 1053\n",
      "True label: \u001b[32msci.med\u001b[0m\n",
      "0 nearest label is \u001b[32msci.med\u001b[0m similarity score: \u001b[33m0.98\u001b[0m\n",
      "1 nearest label is \u001b[31malt.atheism\u001b[0m similarity score: \u001b[33m0.98\u001b[0m\n",
      "2 nearest label is \u001b[32msci.med\u001b[0m similarity score: \u001b[33m0.979\u001b[0m\n",
      "ID: 313\n",
      "True label: \u001b[32mcomp.graphics\u001b[0m\n",
      "0 nearest label is \u001b[32mcomp.graphics\u001b[0m similarity score: \u001b[33m0.986\u001b[0m\n",
      "1 nearest label is \u001b[32mcomp.graphics\u001b[0m similarity score: \u001b[33m0.984\u001b[0m\n",
      "2 nearest label is \u001b[32mcomp.graphics\u001b[0m similarity score: \u001b[33m0.983\u001b[0m\n"
     ]
    }
   ],
   "source": [
    "import random\n",
    "from termcolor import colored\n",
    "\n",
    "for i in random.choices(range(0, len(x_test_v)), k=5):\n",
    "    print(f\"ID: {i}\")\n",
    "    print(\"True label:\", colored(categories[y_test[i]], 'green'))\n",
    "    distances = cosine_similarity([x_test_v[i]], x_train_v).flatten()\n",
    "    indices = np.argsort(distances)[::-1]\n",
    "    for _, j in enumerate(indices[:3]):\n",
    "        print(f\"{_} nearest label is\",\n",
    "              f\"{colored(categories[y_train[j]], 'green' if y_train[j]==y_test[i] else 'red')}\",\n",
    "              f\"similarity score: {colored(round(distances[j], 3), 'yellow')}\")"
   ]
  },
  {
   "cell_type": "markdown",
   "metadata": {
    "slideshow": {
     "slide_type": "slide"
    }
   },
   "source": [
    "# Conclusion\n",
    "\n",
    "- Word embedding is a very powerful feature specially if you have small data, as your model will make use of the learned features of the word2vec model and thus will be able to make better predictions.\n",
    "- Word2vec and GloVe don't count for different context that the same word can have in different sentences"
   ]
  }
 ],
 "metadata": {
  "kernelspec": {
   "display_name": "Python 3 (ipykernel)",
   "language": "python",
   "name": "python3"
  },
  "language_info": {
   "codemirror_mode": {
    "name": "ipython",
    "version": 3
   },
   "file_extension": ".py",
   "mimetype": "text/x-python",
   "name": "python",
   "nbconvert_exporter": "python",
   "pygments_lexer": "ipython3",
   "version": "3.9.7"
  }
 },
 "nbformat": 4,
 "nbformat_minor": 2
}
