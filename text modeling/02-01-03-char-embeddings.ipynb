{
 "cells": [
  {
   "cell_type": "markdown",
   "metadata": {},
   "source": [
    "<center><h1>Character embeddings for text classification</h1></center>\n",
    "\n",
    "character level embedding can be very helpful as it tends to solve the typos issues and out of vocabulary words.\n",
    "\n",
    "<center><img src=\"https://www.researchgate.net/profile/Hoang_Pham26/publication/316875275/figure/fig1/AS:493031154556929@1494559195862/The-CNN-for-extracting-character-level-features-of-word-Hoc-sinh-Student.png\"></center>"
   ]
  },
  {
   "cell_type": "code",
   "execution_count": 45,
   "metadata": {
    "ExecuteTime": {
     "end_time": "2021-11-10T22:40:54.461877Z",
     "start_time": "2021-11-10T22:40:40.121964Z"
    }
   },
   "outputs": [
    {
     "data": {
      "text/html": [
       "<div>\n",
       "<style scoped>\n",
       "    .dataframe tbody tr th:only-of-type {\n",
       "        vertical-align: middle;\n",
       "    }\n",
       "\n",
       "    .dataframe tbody tr th {\n",
       "        vertical-align: top;\n",
       "    }\n",
       "\n",
       "    .dataframe thead th {\n",
       "        text-align: right;\n",
       "    }\n",
       "</style>\n",
       "<table border=\"1\" class=\"dataframe\">\n",
       "  <thead>\n",
       "    <tr style=\"text-align: right;\">\n",
       "      <th></th>\n",
       "      <th>Unnamed: 0</th>\n",
       "      <th>text</th>\n",
       "      <th>intent</th>\n",
       "    </tr>\n",
       "  </thead>\n",
       "  <tbody>\n",
       "    <tr>\n",
       "      <th>0</th>\n",
       "      <td>0</td>\n",
       "      <td>hello there</td>\n",
       "      <td>greetings</td>\n",
       "    </tr>\n",
       "    <tr>\n",
       "      <th>1</th>\n",
       "      <td>1</td>\n",
       "      <td>good morning</td>\n",
       "      <td>greetings</td>\n",
       "    </tr>\n",
       "    <tr>\n",
       "      <th>2</th>\n",
       "      <td>2</td>\n",
       "      <td>welcome</td>\n",
       "      <td>greetings</td>\n",
       "    </tr>\n",
       "    <tr>\n",
       "      <th>3</th>\n",
       "      <td>3</td>\n",
       "      <td>hi!, how are you</td>\n",
       "      <td>greetings</td>\n",
       "    </tr>\n",
       "    <tr>\n",
       "      <th>4</th>\n",
       "      <td>4</td>\n",
       "      <td>Hi there !!</td>\n",
       "      <td>greetings</td>\n",
       "    </tr>\n",
       "  </tbody>\n",
       "</table>\n",
       "</div>"
      ],
      "text/plain": [
       "   Unnamed: 0              text     intent\n",
       "0           0       hello there  greetings\n",
       "1           1      good morning  greetings\n",
       "2           2           welcome  greetings\n",
       "3           3  hi!, how are you  greetings\n",
       "4           4       Hi there !!  greetings"
      ]
     },
     "execution_count": 45,
     "metadata": {},
     "output_type": "execute_result"
    }
   ],
   "source": [
    "import spacy\n",
    "import pandas as pd\n",
    "import numpy as np\n",
    "\n",
    "# nlp = spacy.load(\"en_core_web_md\")\n",
    "dataset = pd.read_csv(\"chatbot-data.tsv\", sep=\"\\t\")\n",
    "dataset.head()"
   ]
  },
  {
   "cell_type": "code",
   "execution_count": 46,
   "metadata": {
    "ExecuteTime": {
     "end_time": "2021-11-10T22:40:54.466348Z",
     "start_time": "2021-11-10T22:40:54.463419Z"
    }
   },
   "outputs": [],
   "source": [
    "def get_longest_sequence(texts):\n",
    "    longest_input = 0\n",
    "    for text in texts:\n",
    "        text_len= len(text)\n",
    "        longest_input = max(longest_input, text_len)\n",
    "    return longest_input"
   ]
  },
  {
   "cell_type": "code",
   "execution_count": 47,
   "metadata": {
    "ExecuteTime": {
     "end_time": "2021-11-10T22:40:54.474476Z",
     "start_time": "2021-11-10T22:40:54.468038Z"
    }
   },
   "outputs": [
    {
     "data": {
      "text/plain": [
       "57"
      ]
     },
     "execution_count": 47,
     "metadata": {},
     "output_type": "execute_result"
    }
   ],
   "source": [
    "longest_seq = get_longest_sequence(dataset['text'])\n",
    "longest_seq"
   ]
  },
  {
   "cell_type": "code",
   "execution_count": 48,
   "metadata": {
    "ExecuteTime": {
     "end_time": "2021-11-10T22:40:54.483196Z",
     "start_time": "2021-11-10T22:40:54.476016Z"
    }
   },
   "outputs": [
    {
     "data": {
      "text/plain": [
       "62"
      ]
     },
     "execution_count": 48,
     "metadata": {},
     "output_type": "execute_result"
    }
   ],
   "source": [
    "from collections import defaultdict\n",
    "import string\n",
    "\n",
    "# let's see how many unique characters we have!\n",
    "unique_chars = len(string.ascii_letters+string.digits)\n",
    "unique_chars"
   ]
  },
  {
   "cell_type": "markdown",
   "metadata": {},
   "source": [
    "There are some special characters"
   ]
  },
  {
   "cell_type": "code",
   "execution_count": 49,
   "metadata": {
    "ExecuteTime": {
     "end_time": "2021-11-10T22:40:54.488443Z",
     "start_time": "2021-11-10T22:40:54.485027Z"
    }
   },
   "outputs": [],
   "source": [
    "char2idx = defaultdict(lambda:0)\n",
    "\n",
    "for idx, char in enumerate(string.ascii_letters+string.digits, 1):\n",
    "    char2idx[char] = idx"
   ]
  },
  {
   "cell_type": "code",
   "execution_count": 50,
   "metadata": {
    "ExecuteTime": {
     "end_time": "2021-11-10T22:40:54.496295Z",
     "start_time": "2021-11-10T22:40:54.489904Z"
    }
   },
   "outputs": [
    {
     "data": {
      "text/plain": [
       "0"
      ]
     },
     "execution_count": 50,
     "metadata": {},
     "output_type": "execute_result"
    }
   ],
   "source": [
    "char2idx['س']"
   ]
  },
  {
   "cell_type": "code",
   "execution_count": 51,
   "metadata": {
    "ExecuteTime": {
     "end_time": "2021-11-07T22:44:47.353429Z",
     "start_time": "2021-11-07T22:44:47.343364Z"
    }
   },
   "outputs": [
    {
     "data": {
      "text/plain": [
       "1"
      ]
     },
     "execution_count": 51,
     "metadata": {},
     "output_type": "execute_result"
    }
   ],
   "source": [
    "char2idx['a']"
   ]
  },
  {
   "cell_type": "markdown",
   "metadata": {},
   "source": [
    "Now prepare your data"
   ]
  },
  {
   "cell_type": "code",
   "execution_count": 52,
   "metadata": {
    "ExecuteTime": {
     "end_time": "2021-11-10T22:40:59.752793Z",
     "start_time": "2021-11-10T22:40:59.748597Z"
    }
   },
   "outputs": [],
   "source": [
    "def encode_text(text):\n",
    "    text_v = np.zeros((longest_seq, unique_chars))\n",
    "    for i, char in enumerate(text):\n",
    "        if i<longest_seq:\n",
    "            text_v[i, char2idx[char]] = 1\n",
    "    return text_v"
   ]
  },
  {
   "cell_type": "code",
   "execution_count": 53,
   "metadata": {
    "ExecuteTime": {
     "end_time": "2021-11-10T22:41:02.058707Z",
     "start_time": "2021-11-10T22:41:02.053841Z"
    }
   },
   "outputs": [
    {
     "data": {
      "text/plain": [
       "array([[0., 1., 0., ..., 0., 0., 0.],\n",
       "       [0., 0., 1., ..., 0., 0., 0.],\n",
       "       [0., 0., 0., ..., 0., 0., 0.],\n",
       "       ...,\n",
       "       [0., 0., 0., ..., 0., 0., 0.],\n",
       "       [0., 0., 0., ..., 0., 0., 0.],\n",
       "       [0., 0., 0., ..., 0., 0., 0.]])"
      ]
     },
     "execution_count": 53,
     "metadata": {},
     "output_type": "execute_result"
    }
   ],
   "source": [
    "encode_text(\"abcd\")"
   ]
  },
  {
   "cell_type": "code",
   "execution_count": 54,
   "metadata": {
    "ExecuteTime": {
     "end_time": "2021-11-10T22:41:18.893169Z",
     "start_time": "2021-11-10T22:41:18.890103Z"
    }
   },
   "outputs": [],
   "source": [
    "def encode_texts(texts):\n",
    "    text_v = np.zeros((len(texts), longest_seq, unique_chars))\n",
    "    for i, text in enumerate(texts):\n",
    "        text_v[i] = encode_text(text)\n",
    "    return text_v"
   ]
  },
  {
   "cell_type": "code",
   "execution_count": 55,
   "metadata": {
    "ExecuteTime": {
     "end_time": "2021-11-10T22:41:22.032180Z",
     "start_time": "2021-11-10T22:41:22.028845Z"
    }
   },
   "outputs": [],
   "source": [
    "x_encoded = encode_texts(dataset['text'])"
   ]
  },
  {
   "cell_type": "code",
   "execution_count": 56,
   "metadata": {
    "ExecuteTime": {
     "end_time": "2021-11-10T22:41:22.582987Z",
     "start_time": "2021-11-10T22:41:22.573198Z"
    }
   },
   "outputs": [
    {
     "data": {
      "text/plain": [
       "(35, 57, 62)"
      ]
     },
     "execution_count": 56,
     "metadata": {},
     "output_type": "execute_result"
    }
   ],
   "source": [
    "x_encoded.shape"
   ]
  },
  {
   "cell_type": "code",
   "execution_count": 57,
   "metadata": {
    "ExecuteTime": {
     "end_time": "2021-11-10T22:41:26.914899Z",
     "start_time": "2021-11-10T22:41:25.292708Z"
    }
   },
   "outputs": [],
   "source": [
    "# encode the y matrix also\n",
    "# prepare y\n",
    "from sklearn.preprocessing import LabelEncoder\n",
    "from tensorflow.keras.utils import to_categorical\n",
    "\n",
    "encoder = LabelEncoder()\n",
    "y_encoded = encoder.fit_transform(dataset['intent'])\n",
    "y_encoded = to_categorical(y_encoded)"
   ]
  },
  {
   "cell_type": "markdown",
   "metadata": {},
   "source": [
    "now let's build the model"
   ]
  },
  {
   "cell_type": "code",
   "execution_count": 58,
   "metadata": {
    "ExecuteTime": {
     "end_time": "2021-11-10T22:45:44.002883Z",
     "start_time": "2021-11-10T22:45:43.324658Z"
    }
   },
   "outputs": [],
   "source": [
    "import tensorflow as tf\n",
    "\n",
    "# define the network\n",
    "inputs = tf.keras.layers.Input((longest_seq, unique_chars))\n",
    "reshaped = tf.keras.layers.Reshape((longest_seq, unique_chars, 1))(inputs)\n",
    "\n",
    "\n",
    "filters_1 = [7, 5]\n",
    "filters_2 = [3, 2]\n",
    "\n",
    "# define the first convnets\n",
    "convs_1 = []\n",
    "for filter_size in filters_1:\n",
    "    conv = tf.keras.layers.Conv2D(50, (filter_size, unique_chars), activation='relu')(reshaped)\n",
    "    pool = tf.keras.layers.MaxPooling2D((filter_size, 1), strides=(1,1))(conv)\n",
    "    convs_1.append(pool)\n",
    "    \n",
    "# concatenate the convs\n",
    "character_level_features = tf.keras.layers.concatenate(convs_1, axis=1)\n",
    "\n",
    "# define the second convnets\n",
    "convs_2 = []\n",
    "for filter_size in filters_2:\n",
    "    conv = tf.keras.layers.Conv2D(100, (filter_size, 1), activation='relu')(character_level_features)\n",
    "    pool = tf.keras.layers.MaxPooling2D((filter_size, 1), strides=(1,1))(conv)\n",
    "    convs_2.append(pool)\n",
    "\n",
    "# merge again \n",
    "word_level_features = tf.keras.layers.concatenate(convs_2, axis=1)\n",
    "\n",
    "# now flatten them and add a dense layer\n",
    "flatten = tf.keras.layers.Flatten()(word_level_features)\n",
    "\n",
    "# add a dense layer\n",
    "clf = tf.keras.layers.Dense(100, activation='relu')(flatten)\n",
    "\n",
    "# add final output\n",
    "clf = tf.keras.layers.Dense(len(encoder.classes_), activation='softmax')(clf)"
   ]
  },
  {
   "cell_type": "code",
   "execution_count": 59,
   "metadata": {
    "ExecuteTime": {
     "end_time": "2021-11-10T22:45:44.043975Z",
     "start_time": "2021-11-10T22:45:44.004462Z"
    }
   },
   "outputs": [
    {
     "name": "stdout",
     "output_type": "stream",
     "text": [
      "Model: \"model_4\"\n",
      "__________________________________________________________________________________________________\n",
      "Layer (type)                    Output Shape         Param #     Connected to                     \n",
      "==================================================================================================\n",
      "input_5 (InputLayer)            [(None, 57, 62)]     0                                            \n",
      "__________________________________________________________________________________________________\n",
      "reshape_4 (Reshape)             (None, 57, 62, 1)    0           input_5[0][0]                    \n",
      "__________________________________________________________________________________________________\n",
      "conv2d_16 (Conv2D)              (None, 51, 1, 50)    21750       reshape_4[0][0]                  \n",
      "__________________________________________________________________________________________________\n",
      "conv2d_17 (Conv2D)              (None, 53, 1, 50)    15550       reshape_4[0][0]                  \n",
      "__________________________________________________________________________________________________\n",
      "max_pooling2d_16 (MaxPooling2D) (None, 45, 1, 50)    0           conv2d_16[0][0]                  \n",
      "__________________________________________________________________________________________________\n",
      "max_pooling2d_17 (MaxPooling2D) (None, 49, 1, 50)    0           conv2d_17[0][0]                  \n",
      "__________________________________________________________________________________________________\n",
      "concatenate_8 (Concatenate)     (None, 94, 1, 50)    0           max_pooling2d_16[0][0]           \n",
      "                                                                 max_pooling2d_17[0][0]           \n",
      "__________________________________________________________________________________________________\n",
      "conv2d_18 (Conv2D)              (None, 92, 1, 100)   15100       concatenate_8[0][0]              \n",
      "__________________________________________________________________________________________________\n",
      "conv2d_19 (Conv2D)              (None, 93, 1, 100)   10100       concatenate_8[0][0]              \n",
      "__________________________________________________________________________________________________\n",
      "max_pooling2d_18 (MaxPooling2D) (None, 90, 1, 100)   0           conv2d_18[0][0]                  \n",
      "__________________________________________________________________________________________________\n",
      "max_pooling2d_19 (MaxPooling2D) (None, 92, 1, 100)   0           conv2d_19[0][0]                  \n",
      "__________________________________________________________________________________________________\n",
      "concatenate_9 (Concatenate)     (None, 182, 1, 100)  0           max_pooling2d_18[0][0]           \n",
      "                                                                 max_pooling2d_19[0][0]           \n",
      "__________________________________________________________________________________________________\n",
      "flatten_4 (Flatten)             (None, 18200)        0           concatenate_9[0][0]              \n",
      "__________________________________________________________________________________________________\n",
      "dense_8 (Dense)                 (None, 100)          1820100     flatten_4[0][0]                  \n",
      "__________________________________________________________________________________________________\n",
      "dense_9 (Dense)                 (None, 7)            707         dense_8[0][0]                    \n",
      "==================================================================================================\n",
      "Total params: 1,883,307\n",
      "Trainable params: 1,883,307\n",
      "Non-trainable params: 0\n",
      "__________________________________________________________________________________________________\n"
     ]
    }
   ],
   "source": [
    "# compile the model\n",
    "model = tf.keras.models.Model(inputs, clf)\n",
    "model.compile(loss='categorical_crossentropy', optimizer='adam', metrics=['acc'])\n",
    "model.summary()"
   ]
  },
  {
   "cell_type": "code",
   "execution_count": 60,
   "metadata": {
    "ExecuteTime": {
     "end_time": "2021-11-10T22:45:44.219140Z",
     "start_time": "2021-11-10T22:45:44.045867Z"
    }
   },
   "outputs": [
    {
     "data": {
      "image/png": "[encoded data removed]",
      "text/plain": [
       "<IPython.core.display.Image object>"
      ]
     },
     "execution_count": 60,
     "metadata": {},
     "output_type": "execute_result"
    }
   ],
   "source": [
    "tf.keras.utils.plot_model(\n",
    "    model, show_shapes=False, show_layer_names=True,\n",
    "    rankdir='TB', expand_nested=False, dpi=96\n",
    ")"
   ]
  },
  {
   "cell_type": "code",
   "execution_count": 61,
   "metadata": {
    "ExecuteTime": {
     "end_time": "2021-11-10T22:45:47.869207Z",
     "start_time": "2021-11-10T22:45:47.825226Z"
    }
   },
   "outputs": [],
   "source": [
    "# let's split the data and train our model\n",
    "from sklearn.model_selection import train_test_split\n",
    "\n",
    "x_train, x_test, y_train, y_test = train_test_split(x_encoded, y_encoded, test_size=.2)"
   ]
  },
  {
   "cell_type": "code",
   "execution_count": 62,
   "metadata": {
    "ExecuteTime": {
     "end_time": "2021-11-10T22:45:48.549116Z",
     "start_time": "2021-11-10T22:45:48.535970Z"
    }
   },
   "outputs": [
    {
     "data": {
      "text/plain": [
       "array([[[0., 0., 0., ..., 0., 0., 0.],\n",
       "        [0., 0., 0., ..., 0., 0., 0.],\n",
       "        [0., 0., 0., ..., 0., 0., 0.],\n",
       "        ...,\n",
       "        [0., 0., 0., ..., 0., 0., 0.],\n",
       "        [0., 0., 0., ..., 0., 0., 0.],\n",
       "        [0., 0., 0., ..., 0., 0., 0.]],\n",
       "\n",
       "       [[0., 0., 0., ..., 0., 0., 0.],\n",
       "        [0., 0., 0., ..., 0., 0., 0.],\n",
       "        [0., 0., 0., ..., 0., 0., 0.],\n",
       "        ...,\n",
       "        [0., 0., 0., ..., 0., 0., 0.],\n",
       "        [0., 0., 0., ..., 0., 0., 0.],\n",
       "        [0., 0., 0., ..., 0., 0., 0.]],\n",
       "\n",
       "       [[0., 0., 0., ..., 0., 0., 0.],\n",
       "        [0., 0., 0., ..., 0., 0., 0.],\n",
       "        [1., 0., 0., ..., 0., 0., 0.],\n",
       "        ...,\n",
       "        [0., 0., 0., ..., 0., 0., 0.],\n",
       "        [0., 0., 0., ..., 0., 0., 0.],\n",
       "        [0., 0., 0., ..., 0., 0., 0.]]])"
      ]
     },
     "execution_count": 62,
     "metadata": {},
     "output_type": "execute_result"
    }
   ],
   "source": [
    "x_train[:3]"
   ]
  },
  {
   "cell_type": "code",
   "execution_count": 65,
   "metadata": {
    "ExecuteTime": {
     "end_time": "2021-11-10T22:45:52.224667Z",
     "start_time": "2021-11-10T22:45:50.053268Z"
    },
    "scrolled": true
   },
   "outputs": [
    {
     "name": "stdout",
     "output_type": "stream",
     "text": [
      "Epoch 1/35\n",
      "1/1 [==============================] - 0s 17ms/step - loss: 1.5380 - acc: 0.3929\n",
      "Epoch 2/35\n",
      "1/1 [==============================] - 0s 15ms/step - loss: 1.3446 - acc: 0.5714\n",
      "Epoch 3/35\n",
      "1/1 [==============================] - 0s 15ms/step - loss: 1.1331 - acc: 0.7857\n",
      "Epoch 4/35\n",
      "1/1 [==============================] - 0s 15ms/step - loss: 0.9248 - acc: 0.8571\n",
      "Epoch 5/35\n",
      "1/1 [==============================] - 0s 14ms/step - loss: 0.7315 - acc: 0.8571\n",
      "Epoch 6/35\n",
      "1/1 [==============================] - 0s 14ms/step - loss: 0.5598 - acc: 0.9286\n",
      "Epoch 7/35\n",
      "1/1 [==============================] - 0s 14ms/step - loss: 0.4054 - acc: 0.9643\n",
      "Epoch 8/35\n",
      "1/1 [==============================] - 0s 15ms/step - loss: 0.2844 - acc: 1.0000\n",
      "Epoch 9/35\n",
      "1/1 [==============================] - 0s 15ms/step - loss: 0.1962 - acc: 1.0000\n",
      "Epoch 10/35\n",
      "1/1 [==============================] - 0s 15ms/step - loss: 0.1368 - acc: 0.9643\n",
      "Epoch 11/35\n",
      "1/1 [==============================] - 0s 15ms/step - loss: 0.1013 - acc: 0.9643\n",
      "Epoch 12/35\n",
      "1/1 [==============================] - 0s 15ms/step - loss: 0.0785 - acc: 0.9643\n",
      "Epoch 13/35\n",
      "1/1 [==============================] - 0s 15ms/step - loss: 0.0600 - acc: 0.9643\n",
      "Epoch 14/35\n",
      "1/1 [==============================] - 0s 14ms/step - loss: 0.0455 - acc: 1.0000\n",
      "Epoch 15/35\n",
      "1/1 [==============================] - 0s 15ms/step - loss: 0.0351 - acc: 1.0000\n",
      "Epoch 16/35\n",
      "1/1 [==============================] - 0s 14ms/step - loss: 0.0267 - acc: 1.0000\n",
      "Epoch 17/35\n",
      "1/1 [==============================] - 0s 15ms/step - loss: 0.0188 - acc: 1.0000\n",
      "Epoch 18/35\n",
      "1/1 [==============================] - 0s 21ms/step - loss: 0.0132 - acc: 1.0000\n",
      "Epoch 19/35\n",
      "1/1 [==============================] - 0s 15ms/step - loss: 0.0097 - acc: 1.0000\n",
      "Epoch 20/35\n",
      "1/1 [==============================] - 0s 14ms/step - loss: 0.0067 - acc: 1.0000\n",
      "Epoch 21/35\n",
      "1/1 [==============================] - 0s 14ms/step - loss: 0.0043 - acc: 1.0000\n",
      "Epoch 22/35\n",
      "1/1 [==============================] - 0s 15ms/step - loss: 0.0027 - acc: 1.0000\n",
      "Epoch 23/35\n",
      "1/1 [==============================] - 0s 14ms/step - loss: 0.0018 - acc: 1.0000\n",
      "Epoch 24/35\n",
      "1/1 [==============================] - 0s 15ms/step - loss: 0.0012 - acc: 1.0000\n",
      "Epoch 25/35\n",
      "1/1 [==============================] - 0s 15ms/step - loss: 8.6619e-04 - acc: 1.0000\n",
      "Epoch 26/35\n",
      "1/1 [==============================] - 0s 15ms/step - loss: 6.3578e-04 - acc: 1.0000\n",
      "Epoch 27/35\n",
      "1/1 [==============================] - 0s 14ms/step - loss: 4.7494e-04 - acc: 1.0000\n",
      "Epoch 28/35\n",
      "1/1 [==============================] - 0s 14ms/step - loss: 3.6051e-04 - acc: 1.0000\n",
      "Epoch 29/35\n",
      "1/1 [==============================] - 0s 15ms/step - loss: 2.7847e-04 - acc: 1.0000\n",
      "Epoch 30/35\n",
      "1/1 [==============================] - 0s 15ms/step - loss: 2.1973e-04 - acc: 1.0000\n",
      "Epoch 31/35\n",
      "1/1 [==============================] - 0s 14ms/step - loss: 1.7735e-04 - acc: 1.0000\n",
      "Epoch 32/35\n",
      "1/1 [==============================] - 0s 15ms/step - loss: 1.4643e-04 - acc: 1.0000\n",
      "Epoch 33/35\n",
      "1/1 [==============================] - 0s 15ms/step - loss: 1.2329e-04 - acc: 1.0000\n",
      "Epoch 34/35\n",
      "1/1 [==============================] - 0s 14ms/step - loss: 1.0547e-04 - acc: 1.0000\n",
      "Epoch 35/35\n",
      "1/1 [==============================] - 0s 15ms/step - loss: 9.1152e-05 - acc: 1.0000\n"
     ]
    },
    {
     "data": {
      "text/plain": [
       "<tensorflow.python.keras.callbacks.History at 0x201964b2be0>"
      ]
     },
     "execution_count": 65,
     "metadata": {},
     "output_type": "execute_result"
    }
   ],
   "source": [
    "# train our model\n",
    "model.fit(x_train, y_train, epochs=35)"
   ]
  },
  {
   "cell_type": "code",
   "execution_count": 66,
   "metadata": {
    "ExecuteTime": {
     "end_time": "2021-11-10T22:45:52.544827Z",
     "start_time": "2021-11-10T22:45:52.226047Z"
    }
   },
   "outputs": [
    {
     "name": "stdout",
     "output_type": "stream",
     "text": [
      "1/1 [==============================] - 0s 11ms/step - loss: 10.1705 - acc: 0.2857\n"
     ]
    },
    {
     "data": {
      "text/plain": [
       "[10.170499801635742, 0.2857142984867096]"
      ]
     },
     "execution_count": 66,
     "metadata": {},
     "output_type": "execute_result"
    }
   ],
   "source": [
    "model.evaluate(x_test, y_test)"
   ]
  },
  {
   "cell_type": "code",
   "execution_count": 67,
   "metadata": {
    "ExecuteTime": {
     "end_time": "2021-11-10T22:45:52.549929Z",
     "start_time": "2021-11-10T22:45:52.546291Z"
    }
   },
   "outputs": [
    {
     "data": {
      "text/plain": [
       "'reserve_enq'"
      ]
     },
     "execution_count": 67,
     "metadata": {},
     "output_type": "execute_result"
    }
   ],
   "source": [
    "encoder.classes_[4]"
   ]
  },
  {
   "cell_type": "code",
   "execution_count": 68,
   "metadata": {
    "ExecuteTime": {
     "end_time": "2021-11-10T22:45:52.558777Z",
     "start_time": "2021-11-10T22:45:52.551795Z"
    }
   },
   "outputs": [],
   "source": [
    "def predict_char_embd(text):\n",
    "    text_v = np.zeros((1, longest_seq, unique_chars))\n",
    "    for i, token in enumerate(text):\n",
    "        if i>longest_seq:\n",
    "            break\n",
    "        text_v[0, i] = char2idx[token]\n",
    "    # predict the input \n",
    "    prediction = model.predict(text_v)\n",
    "    label = encoder.classes_[np.argmax(prediction)]\n",
    "    return label"
   ]
  },
  {
   "cell_type": "code",
   "execution_count": 69,
   "metadata": {
    "ExecuteTime": {
     "end_time": "2021-11-10T22:45:56.741011Z",
     "start_time": "2021-11-10T22:45:56.677991Z"
    }
   },
   "outputs": [
    {
     "data": {
      "text/plain": [
       "'cost_enq'"
      ]
     },
     "execution_count": 69,
     "metadata": {},
     "output_type": "execute_result"
    }
   ],
   "source": [
    "predict_char_embd(\"how mcuh for the french course ?\")"
   ]
  }
 ],
 "metadata": {
  "kernelspec": {
   "display_name": "Python 3 (ipykernel)",
   "language": "python",
   "name": "python3"
  },
  "language_info": {
   "codemirror_mode": {
    "name": "ipython",
    "version": 3
   },
   "file_extension": ".py",
   "mimetype": "text/x-python",
   "name": "python",
   "nbconvert_exporter": "python",
   "pygments_lexer": "ipython3",
   "version": "3.9.7"
  }
 },
 "nbformat": 4,
 "nbformat_minor": 2
}
